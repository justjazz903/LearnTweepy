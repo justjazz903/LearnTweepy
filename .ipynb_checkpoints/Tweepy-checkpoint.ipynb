{
 "cells": [
  {
   "cell_type": "code",
   "execution_count": 31,
   "metadata": {},
   "outputs": [],
   "source": [
    "from tweepy.streaming import StreamListener\n",
    "from tweepy import OAuthHandler\n",
    "from tweepy import Stream\n",
    "from tweepy import API\n",
    "from tweepy import Cursor\n",
    "\n",
    "import keys\n",
    "import numpy as np\n",
    "import pandas as pd"
   ]
  },
  {
   "cell_type": "code",
   "execution_count": 36,
   "metadata": {},
   "outputs": [],
   "source": [
    "class TwitterClient():\n",
    "    def __init__(self,twitter_user=None):\n",
    "        self.auth = TwitterAuthenticator().authenticate_twitter_app()\n",
    "        self.twitter_client = API(self.auth)\n",
    "        self.twitter_user = twitter_user\n",
    "    def get_twitter_client_api(self):\n",
    "        return self.twitter_client\n",
    "    def get_user_timeline_tweets(self,num):\n",
    "        tweets = []\n",
    "        for tweet in Cursor(self.twitter_client.user_timeline,id=self.twitter_user).items(num):\n",
    "            tweets.append(tweet)\n",
    "        return tweets\n",
    "    def get_user_friend_list(self,num):\n",
    "        friend_list = []\n",
    "        for friend in Cursor(self.twitter_client.friends,id=self.twitter_user).items(num):\n",
    "            friend_list.append(friend)\n",
    "        return friend_list\n",
    "    # More calls on here http://docs.tweepy.org/en/v3.5.0/api.html\n",
    "\n",
    "\n",
    "class TwitterAuthenticator():\n",
    "    def authenticate_twitter_app(self):\n",
    "        auth = OAuthHandler(keys.consumer_api_key, keys.consumer_api_secret_key)\n",
    "        auth.set_access_token(keys.access_token,keys.access_token_secret)\n",
    "        return auth\n",
    "        \n",
    "\n",
    "class TwitterStreamer():\n",
    "    \n",
    "    def __init__(self):\n",
    "        self.twitter_authenticator = TwitterAuthenticator()\n",
    "        \n",
    "    def stream_tweets(self,fetched_tweets_filename, hash_tag_list):\n",
    "        listener = TwitterListener()\n",
    "        auth = self.twitter_authenticator.authenticate_twitter_app()\n",
    "\n",
    "        stream = Stream(auth,listener)\n",
    "\n",
    "        stream.filter(track=hash_tag_list)\n",
    "\n",
    "\n",
    "class TwitterListener(StreamListener):\n",
    "    def __init__(self):\n",
    "        self.fetched_tweets_filename = fetched_tweets_filename\n",
    "    def on_data(self,data):\n",
    "        try:\n",
    "            with open(self.fetched_tweets_filename,'a') as tf:\n",
    "                tf.write(data)\n",
    "            print(data)\n",
    "        except BaseException as e:\n",
    "            print('Error:',str(e))\n",
    "        return True\n",
    "    def on_error(self,status):\n",
    "        if status == 420:\n",
    "            return False  # Rate Limit Error\n",
    "        print(status)\n",
    "        \n",
    "class TwitterAnalyzer():\n",
    "    def tweets_to_DataFrame(self,tweets):\n",
    "        df = pd.DataFrame(data=[tweet.text for tweet in tweets],columns=['text'])\n",
    "        df['id'] = np.array([tweet.id for tweet in tweets])\n",
    "        # to be continued\n",
    "        \n",
    "        return df"
   ]
  },
  {
   "cell_type": "code",
   "execution_count": 43,
   "metadata": {},
   "outputs": [],
   "source": [
    "if __name__ == '__main__':\n",
    "#     hash_tag_list = ['Blizzard','hearthstone','warcraft','overwatch','starcraft']\n",
    "#     fetched_tweets_filename = 'tweets.json'\n",
    "#     twitter_streamer = TwitterStreamer()\n",
    "#     twitter_streamer.stream_tweets(fetched_tweets_filename,hash_tag_list)\n",
    "#      print(dir(TwitterClient('lllllllll520').get_user_timeline_tweets(2)[0]))\n",
    "    tweets = TwitterClient().get_twitter_client_api().user_timeline(screen_name='SoLegitHS',count='20')\n",
    "    df = TwitterAnalyzer().tweets_to_DataFrame(tweets)"
   ]
  },
  {
   "cell_type": "code",
   "execution_count": 57,
   "metadata": {},
   "outputs": [
    {
     "data": {
      "text/plain": [
       "'Was messing around with wacky mage stuff on EU and this build climbed from 500 to 40~ with a pretty good winrate on… https://t.co/l5asR4oQEg'"
      ]
     },
     "execution_count": 57,
     "metadata": {},
     "output_type": "execute_result"
    }
   ],
   "source": [
    "df.iloc[2]['text']"
   ]
  },
  {
   "cell_type": "code",
   "execution_count": null,
   "metadata": {},
   "outputs": [],
   "source": []
  }
 ],
 "metadata": {
  "kernelspec": {
   "display_name": "Python 3",
   "language": "python",
   "name": "python3"
  },
  "language_info": {
   "codemirror_mode": {
    "name": "ipython",
    "version": 3
   },
   "file_extension": ".py",
   "mimetype": "text/x-python",
   "name": "python",
   "nbconvert_exporter": "python",
   "pygments_lexer": "ipython3",
   "version": "3.6.8"
  }
 },
 "nbformat": 4,
 "nbformat_minor": 2
}
